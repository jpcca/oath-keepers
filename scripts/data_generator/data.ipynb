{
 "cells": [
  {
   "cell_type": "markdown",
   "id": "14fcddbf",
   "metadata": {},
   "source": [
    "# download data"
   ]
  },
  {
   "cell_type": "code",
   "execution_count": 26,
   "id": "c6e9c9f0",
   "metadata": {},
   "outputs": [],
   "source": [
    "import subprocess\n",
    "\n",
    "REPO_ROOT = subprocess.run(['git', 'rev-parse', '--show-toplevel'], capture_output=True, text=True, check=True).stdout.strip()"
   ]
  },
  {
   "cell_type": "code",
   "execution_count": 27,
   "id": "e381aceb",
   "metadata": {},
   "outputs": [
    {
     "name": "stdout",
     "output_type": "stream",
     "text": [
      "DOID.owl already exists. Redownload? [Y/n]: Skipping.\n",
      "SYMP.owl already exists. Redownload? [Y/n]: Skipping.\n",
      "FMA.owl already exists. Redownload? [Y/n]: Skipping.\n"
     ]
    }
   ],
   "source": [
    "import requests\n",
    "import os\n",
    "\n",
    "urls = {\n",
    "    \"DOID\": \"http://purl.obolibrary.org/obo/doid.owl\",\n",
    "    \"SYMP\": \"http://purl.obolibrary.org/obo/symp.owl\",\n",
    "    \"FMA\": \"http://purl.obolibrary.org/obo/fma.owl\",\n",
    "}\n",
    "os.makedirs(f\"{REPO_ROOT}/data/owl\", exist_ok=True)\n",
    "\n",
    "for name, url in urls.items():\n",
    "    data_path = REPO_ROOT + f\"/data/owl/{name}.owl\"\n",
    "    if os.path.exists(data_path):\n",
    "        print(f\"{name}.owl already exists. Redownload? [Y/n]: \", end=\"\")\n",
    "        if input().strip().lower() != \"y\":\n",
    "            print(f\"Skipping.\")\n",
    "            continue\n",
    "    \n",
    "    print(\"Downloading\", f\"{name}.owl ... \", end=\"\")\n",
    "    req = requests.get(url)\n",
    "    with open(data_path, \"wb\") as fw:\n",
    "        fw.write(req.content)\n",
    "    print(\"done!\")"
   ]
  },
  {
   "cell_type": "markdown",
   "id": "9dce202c",
   "metadata": {},
   "source": [
    "# read and filter data"
   ]
  },
  {
   "cell_type": "code",
   "execution_count": 28,
   "id": "99323b41",
   "metadata": {},
   "outputs": [
    {
     "name": "stdout",
     "output_type": "stream",
     "text": [
      "len(doid_list) = 14452\n",
      "len(symp_list) = 1019\n",
      "len(fma_list) = 78977\n"
     ]
    }
   ],
   "source": [
    "from deeponto.onto import Ontology\n",
    "\n",
    "# Ontology のロード\n",
    "doid_onto = Ontology(f\"{REPO_ROOT}/data/owl/DOID.owl\")\n",
    "symp_onto = Ontology(f\"{REPO_ROOT}/data/owl/SYMP.owl\")\n",
    "fma_onto = Ontology(f\"{REPO_ROOT}/data/owl/FMA.owl\")\n",
    "\n",
    "# 必要な Ontology に絞る\n",
    "doid_list = [iri for iri in doid_onto.owl_classes.keys() if iri.startswith(\"http://purl.obolibrary.org/obo/DOID_\")]\n",
    "symp_list = [iri for iri in symp_onto.owl_classes.keys() if iri.startswith(\"http://purl.obolibrary.org/obo/SYMP_\")]\n",
    "fma_list  = [iri for iri in fma_onto.owl_classes.keys() if iri.startswith(\"http://purl.obolibrary.org/obo/FMA_\")]\n",
    "print(\"len(doid_list) =\", len(doid_list))\n",
    "print(\"len(symp_list) =\", len(symp_list))\n",
    "print(\"len(fma_list) =\", len(fma_list))"
   ]
  },
  {
   "cell_type": "markdown",
   "id": "e1cf12f5",
   "metadata": {},
   "source": [
    "# save master data"
   ]
  },
  {
   "cell_type": "code",
   "execution_count": 29,
   "id": "6bc5c7fb",
   "metadata": {},
   "outputs": [
    {
     "name": "stdout",
     "output_type": "stream",
     "text": [
      "DOID_master.tsv saved.\n",
      "SYMP_master.tsv saved.\n",
      "FMA_master.tsv saved.\n"
     ]
    }
   ],
   "source": [
    "from org.semanticweb.owlapi.vocab import OWLRDFVocabulary\n",
    "\n",
    "# アノテーションプロパティの IRI\n",
    "RDFS_LABEL = str(OWLRDFVocabulary.RDFS_LABEL.getIRI())  # label = その IRI の名前を表す IRI\n",
    "OBO_ID = \"http://www.geneontology.org/formats/oboInOwl#id\" # OBO ID = その IRI の短縮 ID を表す IRI\n",
    "IAO_DEF = \"http://purl.obolibrary.org/obo/IAO_0000115\"  # IAO = その IRI の定義を表す IRI\n",
    "\n",
    "def get_ontology_info(onto: Ontology, iri: str):\n",
    "    \"\"\"\n",
    "    Ontology インスタンスと IRI から、その IRI の短縮 ID、名前、定義を取得する。\n",
    "\n",
    "    Arguments:\n",
    "        onto: owl ファイルをロードした Ontology インスタンス\n",
    "        iri: \"http://purl.obolibrary.org/obo/DOID_0002116\" のような完全 IRI\n",
    "\n",
    "    Returns:\n",
    "        (short_id, name, definition)\n",
    "    \"\"\"\n",
    "    obj = onto.get_owl_object(iri)\n",
    "\n",
    "    id_annots = onto.get_annotations(obj, annotation_property_iri=OBO_ID)\n",
    "    short_id = next(iter(id_annots), None)\n",
    "\n",
    "    name_annots = onto.get_annotations(obj, annotation_property_iri=RDFS_LABEL)\n",
    "    name = next(iter(name_annots), None)\n",
    "\n",
    "    def_annots = onto.get_annotations(obj, annotation_property_iri=IAO_DEF)\n",
    "    definition = next(iter(def_annots), None)\n",
    "\n",
    "    return iri, short_id, name, definition\n",
    "\n",
    "\n",
    "doid_master = [get_ontology_info(doid_onto, doid_iri) for doid_iri in doid_list]\n",
    "symp_master = [get_ontology_info(symp_onto, symp_iri) for symp_iri in symp_list]\n",
    "fma_master  = [get_ontology_info(fma_onto,  fma_iri)  for fma_iri  in fma_list]\n",
    "\n",
    "# 出力\n",
    "for onto_name, master in [(\"DOID\", doid_master), (\"SYMP\", symp_master), (\"FMA\", fma_master)]:\n",
    "    with open(f\"{REPO_ROOT}/data/master/{onto_name}.tsv\", \"w\") as fw:\n",
    "        fw.write(\"iri\\tid\\tname\\tdefinition\\n\")\n",
    "        for iri, short_id, name, definition in master:\n",
    "            fw.write(f\"{iri}\\t{short_id}\\t{name}\\t{definition}\\n\")\n",
    "    print(f\"{onto_name}_master.tsv saved.\")"
   ]
  },
  {
   "cell_type": "code",
   "execution_count": 36,
   "id": "28e3d991",
   "metadata": {},
   "outputs": [
    {
     "data": {
      "text/html": [
       "<div>\n",
       "<style scoped>\n",
       "    .dataframe tbody tr th:only-of-type {\n",
       "        vertical-align: middle;\n",
       "    }\n",
       "\n",
       "    .dataframe tbody tr th {\n",
       "        vertical-align: top;\n",
       "    }\n",
       "\n",
       "    .dataframe thead th {\n",
       "        text-align: right;\n",
       "    }\n",
       "</style>\n",
       "<table border=\"1\" class=\"dataframe\">\n",
       "  <thead>\n",
       "    <tr style=\"text-align: right;\">\n",
       "      <th></th>\n",
       "      <th>iri</th>\n",
       "      <th>id</th>\n",
       "      <th>name</th>\n",
       "      <th>definition</th>\n",
       "    </tr>\n",
       "  </thead>\n",
       "  <tbody>\n",
       "    <tr>\n",
       "      <th>0</th>\n",
       "      <td>http://purl.obolibrary.org/obo/SYMP_0000000</td>\n",
       "      <td>SYMP:0000000</td>\n",
       "      <td>cellulitis</td>\n",
       "      <td>Cellulitis is a musculoskeletal system symptom...</td>\n",
       "    </tr>\n",
       "    <tr>\n",
       "      <th>1</th>\n",
       "      <td>http://purl.obolibrary.org/obo/SYMP_0000001</td>\n",
       "      <td>SYMP:0000001</td>\n",
       "      <td>abdominal cramp</td>\n",
       "      <td>NaN</td>\n",
       "    </tr>\n",
       "    <tr>\n",
       "      <th>2</th>\n",
       "      <td>http://purl.obolibrary.org/obo/SYMP_0000002</td>\n",
       "      <td>SYMP:0000002</td>\n",
       "      <td>abdominal distention</td>\n",
       "      <td>NaN</td>\n",
       "    </tr>\n",
       "    <tr>\n",
       "      <th>3</th>\n",
       "      <td>http://purl.obolibrary.org/obo/SYMP_0000003</td>\n",
       "      <td>SYMP:0000003</td>\n",
       "      <td>obsolete acute enteritis in newborns</td>\n",
       "      <td>NaN</td>\n",
       "    </tr>\n",
       "    <tr>\n",
       "      <th>4</th>\n",
       "      <td>http://purl.obolibrary.org/obo/SYMP_0000004</td>\n",
       "      <td>SYMP:0000004</td>\n",
       "      <td>obsolete arrested moulting</td>\n",
       "      <td>NaN</td>\n",
       "    </tr>\n",
       "    <tr>\n",
       "      <th>...</th>\n",
       "      <td>...</td>\n",
       "      <td>...</td>\n",
       "      <td>...</td>\n",
       "      <td>...</td>\n",
       "    </tr>\n",
       "    <tr>\n",
       "      <th>1014</th>\n",
       "      <td>http://purl.obolibrary.org/obo/SYMP_0020060</td>\n",
       "      <td>SYMP:0020060</td>\n",
       "      <td>low white blood cell count</td>\n",
       "      <td>NaN</td>\n",
       "    </tr>\n",
       "    <tr>\n",
       "      <th>1015</th>\n",
       "      <td>http://purl.obolibrary.org/obo/SYMP_0020061</td>\n",
       "      <td>SYMP:0020061</td>\n",
       "      <td>outlet dysfunction constipation</td>\n",
       "      <td>A constipation that is characterized by diffic...</td>\n",
       "    </tr>\n",
       "    <tr>\n",
       "      <th>1016</th>\n",
       "      <td>http://purl.obolibrary.org/obo/SYMP_0020062</td>\n",
       "      <td>SYMP:0020062</td>\n",
       "      <td>soft tissue necrosis</td>\n",
       "      <td>A musculoskeletal system symptom that is chara...</td>\n",
       "    </tr>\n",
       "    <tr>\n",
       "      <th>1017</th>\n",
       "      <td>http://purl.obolibrary.org/obo/SYMP_0020063</td>\n",
       "      <td>SYMP:0020063</td>\n",
       "      <td>blood pressure</td>\n",
       "      <td>NaN</td>\n",
       "    </tr>\n",
       "    <tr>\n",
       "      <th>1018</th>\n",
       "      <td>http://purl.obolibrary.org/obo/SYMP_0020064</td>\n",
       "      <td>SYMP:0020064</td>\n",
       "      <td>high blood pressure</td>\n",
       "      <td>NaN</td>\n",
       "    </tr>\n",
       "  </tbody>\n",
       "</table>\n",
       "<p>1019 rows × 4 columns</p>\n",
       "</div>"
      ],
      "text/plain": [
       "                                              iri            id  \\\n",
       "0     http://purl.obolibrary.org/obo/SYMP_0000000  SYMP:0000000   \n",
       "1     http://purl.obolibrary.org/obo/SYMP_0000001  SYMP:0000001   \n",
       "2     http://purl.obolibrary.org/obo/SYMP_0000002  SYMP:0000002   \n",
       "3     http://purl.obolibrary.org/obo/SYMP_0000003  SYMP:0000003   \n",
       "4     http://purl.obolibrary.org/obo/SYMP_0000004  SYMP:0000004   \n",
       "...                                           ...           ...   \n",
       "1014  http://purl.obolibrary.org/obo/SYMP_0020060  SYMP:0020060   \n",
       "1015  http://purl.obolibrary.org/obo/SYMP_0020061  SYMP:0020061   \n",
       "1016  http://purl.obolibrary.org/obo/SYMP_0020062  SYMP:0020062   \n",
       "1017  http://purl.obolibrary.org/obo/SYMP_0020063  SYMP:0020063   \n",
       "1018  http://purl.obolibrary.org/obo/SYMP_0020064  SYMP:0020064   \n",
       "\n",
       "                                      name  \\\n",
       "0                               cellulitis   \n",
       "1                          abdominal cramp   \n",
       "2                     abdominal distention   \n",
       "3     obsolete acute enteritis in newborns   \n",
       "4               obsolete arrested moulting   \n",
       "...                                    ...   \n",
       "1014            low white blood cell count   \n",
       "1015       outlet dysfunction constipation   \n",
       "1016                  soft tissue necrosis   \n",
       "1017                        blood pressure   \n",
       "1018                   high blood pressure   \n",
       "\n",
       "                                             definition  \n",
       "0     Cellulitis is a musculoskeletal system symptom...  \n",
       "1                                                   NaN  \n",
       "2                                                   NaN  \n",
       "3                                                   NaN  \n",
       "4                                                   NaN  \n",
       "...                                                 ...  \n",
       "1014                                                NaN  \n",
       "1015  A constipation that is characterized by diffic...  \n",
       "1016  A musculoskeletal system symptom that is chara...  \n",
       "1017                                                NaN  \n",
       "1018                                                NaN  \n",
       "\n",
       "[1019 rows x 4 columns]"
      ]
     },
     "execution_count": 36,
     "metadata": {},
     "output_type": "execute_result"
    }
   ],
   "source": [
    "df_symp = pd.read_table(f\"{REPO_ROOT}/data/master/SYMP.tsv\", sep=\"\\t\", header=0, dtype=str)\n",
    "df_symp"
   ]
  },
  {
   "cell_type": "markdown",
   "id": "c2be6325",
   "metadata": {},
   "source": [
    "# desease and symptoms"
   ]
  },
  {
   "cell_type": "code",
   "execution_count": 56,
   "id": "a79b5ae7",
   "metadata": {},
   "outputs": [],
   "source": [
    "import tqdm\n",
    "from org.semanticweb.owlapi.model import AxiomType\n",
    "\n",
    "# Annotation IRI\n",
    "RO_SYMPTOM  = \"RO_0002452\"  # this means \"has_symptom\" https://www.ebi.ac.uk/ols4/ontologies/ro/properties/http%253A%252F%252Fpurl.obolibrary.org%252Fobo%252FRO_0002452\n",
    "SYN_EXACT   = \"http://www.geneontology.org/formats/oboInOwl#hasExactSynonym\"\n",
    "SYN_RELATED = \"http://www.geneontology.org/formats/oboInOwl#hasRelatedSynonym\"\n",
    "RDFS_LABEL  = str(OWLRDFVocabulary.RDFS_LABEL.getIRI())\n",
    "\n",
    "def get_symptoms_for_doid(doid_onto: Ontology, symp_onto: Ontology, doid_iri: str):\n",
    "    \"\"\"\n",
    "    Arguments:\n",
    "        doid_onto: Ontology instance for DOID.owl\n",
    "        symp_onto: Ontology instance for SYMP.owl\n",
    "        doid_iri:  Full IRI, e.g. \"http://purl.obolibrary.org/obo/DOID_0002116\"\n",
    "    Returns:\n",
    "        List of tuples (symptom_iri, method)\n",
    "        where method is \"restriction\" or \"synonym\"\n",
    "    \"\"\"\n",
    "    results = {}\n",
    "    doid_obj = doid_onto.get_owl_object(doid_iri)\n",
    "\n",
    "    # 1) RO_0002452 を使った restriction ベースのマッチング\n",
    "    for ax in doid_onto.get_subsumption_axioms():\n",
    "        if ax.getAxiomType().equals(AxiomType.SUBCLASS_OF) and doid_obj.equals(ax.getSubClass()):\n",
    "            sup = ax.getSuperClass()\n",
    "            try:\n",
    "                prop = sup.getProperty()\n",
    "                if RO_SYMPTOM in str(prop):\n",
    "                    filler = sup.getFiller()\n",
    "                    symp_iri = symp_onto.get_iri(filler)\n",
    "                    results[symp_iri] = \"restriction\"\n",
    "            except AttributeError:\n",
    "                continue\n",
    "\n",
    "    # 2) シノニムベース (hasExactSynonym, hasRelatedSynonym) のマッチング\n",
    "    # Collect synonyms\n",
    "    synonyms = []\n",
    "    for prop_iri in (SYN_EXACT, SYN_RELATED):\n",
    "        synonyms.extend(doid_onto.get_annotations(doid_obj, annotation_property_iri=prop_iri))\n",
    "    \n",
    "    for syn in synonyms:\n",
    "        for lbl in df_symp['name'].dropna().tolist():\n",
    "            if syn.lower() in lbl:\n",
    "                if iri not in results:\n",
    "                    results[iri] = \"synonym\"\n",
    "\n",
    "    return results"
   ]
  },
  {
   "cell_type": "code",
   "execution_count": 57,
   "id": "562f3b02",
   "metadata": {},
   "outputs": [
    {
     "name": "stderr",
     "output_type": "stream",
     "text": [
      "100%|██████████| 14452/14452 [1:23:29<00:00,  2.89it/s]    \n"
     ]
    }
   ],
   "source": [
    "# e.g. \n",
    "# doid_iri = \"http://purl.obolibrary.org/obo/DOID_946\"\n",
    "# res = get_symptoms_for_doid(doid_onto, symp_onto, doid_iri)\n",
    "\n",
    "doid_symptoms_dict = {}\n",
    "for doid_iri in tqdm.tqdm(doid_list):\n",
    "    res = get_symptoms_for_doid(doid_onto, symp_onto, doid_iri)\n",
    "    if res:\n",
    "        doid_symptoms_dict[doid_iri] = res"
   ]
  },
  {
   "cell_type": "code",
   "execution_count": 62,
   "id": "cf6b3ce3",
   "metadata": {},
   "outputs": [],
   "source": [
    "with open(f\"{REPO_ROOT}/data/relationship/doid_symp.tsv\", \"w\") as fw:\n",
    "    for doid_iri, symptoms in doid_symptoms_dict.items():\n",
    "        for symp_iri, method in symptoms.items():\n",
    "            print(f\"{doid_iri}\\t{symp_iri}\\t{method}\", file=fw)"
   ]
  },
  {
   "cell_type": "code",
   "execution_count": null,
   "id": "dece61c8",
   "metadata": {},
   "outputs": [],
   "source": []
  },
  {
   "cell_type": "markdown",
   "id": "5556a991",
   "metadata": {},
   "source": [
    "# symptom and location"
   ]
  },
  {
   "cell_type": "code",
   "execution_count": 63,
   "id": "b39593ad",
   "metadata": {},
   "outputs": [],
   "source": [
    "import pandas as pd\n",
    "df_fma = pd.read_table(f\"{REPO_ROOT}/data/master/FMA.tsv\", sep=\"\\t\", header=0, dtype=str)\n",
    "fma_labels = {row['iri']: row['name'] for _, row in df_fma.iterrows()}\n",
    "\n",
    "df_symp = pd.read_table(f\"{REPO_ROOT}/data/master/SYMP.tsv\", sep=\"\\t\", header=0, dtype=str)\n",
    "symp_labels = {row['iri']: row['name'] for _, row in df_symp.iterrows()}"
   ]
  },
  {
   "cell_type": "code",
   "execution_count": 64,
   "id": "2d53f4f8",
   "metadata": {},
   "outputs": [],
   "source": [
    "# キーワードマッチで症状と身体の部位のマッチング\n",
    "from rapidfuzz.process import cdist\n",
    "\n",
    "df_symp_valid = df_symp[~df_symp.definition.isna()].copy()\n",
    "queries = df_symp_valid.name + \": \" + df_symp_valid.definition\n",
    "choices = df_fma.name\n",
    "\n",
    "score = cdist(queries, choices, workers=-1)\n",
    "best_matched_body = df_fma.iloc[pd.DataFrame(score, index=queries, columns=choices).values.argmax(axis=1)].iri\n",
    "\n",
    "with open(f\"{REPO_ROOT}/data/relationship/symp_fma.tsv\", \"w\") as fw:\n",
    "    print(\"symptom_iri\\tbody_part_iri\\tmethod\", file=fw)\n",
    "    for symp_iri, body_iri in zip(df_symp_valid.iri, best_matched_body):\n",
    "        print(f\"{symp_iri}\\t{body_iri}\\tkeyword\", file=fw)"
   ]
  }
 ],
 "metadata": {
  "kernelspec": {
   "display_name": "oath-keepers",
   "language": "python",
   "name": "python3"
  },
  "language_info": {
   "codemirror_mode": {
    "name": "ipython",
    "version": 3
   },
   "file_extension": ".py",
   "mimetype": "text/x-python",
   "name": "python",
   "nbconvert_exporter": "python",
   "pygments_lexer": "ipython3",
   "version": "3.12.9"
  }
 },
 "nbformat": 4,
 "nbformat_minor": 5
}
